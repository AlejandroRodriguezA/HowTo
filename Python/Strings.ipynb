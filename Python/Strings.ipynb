{
 "metadata": {
  "language_info": {
   "codemirror_mode": {
    "name": "ipython",
    "version": 3
   },
   "file_extension": ".py",
   "mimetype": "text/x-python",
   "name": "python",
   "nbconvert_exporter": "python",
   "pygments_lexer": "ipython3",
   "version": "3.9.1"
  },
  "orig_nbformat": 4,
  "kernelspec": {
   "name": "python3",
   "display_name": "Python 3.9.1 64-bit ('kivy': conda)"
  },
  "interpreter": {
   "hash": "b9226178018bf1cf52b3da38df599aa6ab14eb450aa7e026ac7ee04d338100c2"
  }
 },
 "nbformat": 4,
 "nbformat_minor": 2,
 "cells": [
  {
   "source": [
    "# STRINGS\n",
    "## Indice:\n",
    "\n",
    "1. [Literales:](#Literal)\n",
    "    \n",
    "    a. [Escapes:](#Escapes)\n",
    "    \n",
    "    b. [Raw Strings](#Raw)\n",
    "\n"
   ],
   "cell_type": "markdown",
   "metadata": {}
  },
  {
   "source": [
    "<a name=\"Literal\"></a>\n",
    "## Definicion y literales:\n",
    "\n",
    "Strings en Python objetos secuenciales e inmutables, es decir, ordenadas de izquierda a derecha y que no pueden ser cambiadas en el lugar.\n",
    "\n",
    "Para declarar los strings, o Strings Literals:\n",
    "\n",
    "- Comillas Simples: 'Un \"ejemplo\" de como utilizar las doble comillas dentro de un strig'\n",
    "- Comillas Dobles: \"Joe's House\"\n",
    "- Comillas Triples: '''... Documentacion ...'''\n",
    "- Secuencias de Escape: \"s\\tp\\na\\0m\"\n",
    "- Raw strings: r\"C:\\new\\test.spm\"\n",
    "- Bytes literals: b'sp\\x01am'\n"
   ],
   "cell_type": "markdown",
   "metadata": {}
  },
  {
   "cell_type": "code",
   "execution_count": 1,
   "metadata": {},
   "outputs": [
    {
     "output_type": "execute_result",
     "data": {
      "text/plain": [
       "'Un \"ejemplo\" de como utilizar las doble comillas dentro de un strig'"
      ]
     },
     "metadata": {},
     "execution_count": 1
    }
   ],
   "source": [
    "'Un \"ejemplo\" de como utilizar las doble comillas dentro de un strig'\n"
   ]
  },
  {
   "cell_type": "code",
   "execution_count": 2,
   "metadata": {},
   "outputs": [
    {
     "output_type": "stream",
     "name": "stdout",
     "text": [
      "Ejemplo '2' de literales\n"
     ]
    }
   ],
   "source": [
    "# Nota: otra forma es asignarlo a una variable, para luego trabajarla.\n",
    "\n",
    "ej = \"Ejemplo '2' de literales\"\n",
    "print(ej)\n"
   ]
  },
  {
   "cell_type": "code",
   "execution_count": 3,
   "metadata": {},
   "outputs": [
    {
     "output_type": "execute_result",
     "data": {
      "text/plain": [
       "' Las triple comillas son utilizadas para documentacion,\\ny puedes utilizar varias lineas sin afectar el programa.\\n\\nPython interpreta todo como un string hasta que consigue las\\ntriple comillas de cierre'"
      ]
     },
     "metadata": {},
     "execution_count": 3
    }
   ],
   "source": [
    "''' Las triple comillas son utilizadas para documentacion,\n",
    "y puedes utilizar varias lineas sin afectar el programa.\n",
    "\n",
    "Python interpreta todo como un string hasta que consigue las\n",
    "triple comillas de cierre'''"
   ]
  },
  {
   "source": [
    "<a name=\"Escapes\"></a>\n",
    "### Secuencias de Escape:\n",
    "\n",
    "Las secuencias de escape se utilizan para ingresar caracteres especiales:\n",
    "\n",
    "* \\newline              Ignored (continuation line)\n",
    "* \\\\                    Backslash (stores one \\)\n",
    "* \\'                    Single quote (stores ')\n",
    "* \\\"                    Double quote (stores \")\n",
    "* \\a                    Bell\n",
    "* \\b                    Backspace\n",
    "* \\f                    Formfeed\n",
    "* \\n                    Newline (linefeed)\n",
    "* \\r                    Carriage return\n",
    "* \\t                    Horizontal tab\n",
    "* \\v                    Vertical tab\n",
    "* \\xhh                  Character with hex value hh (exactly 2 digits)\n",
    "* \\ooo                  Character with octal value ooo (up to 3 digits)\n",
    "* \\0                    Null: binary 0 character (doesn’t end string)\n",
    "* \\N{ id }              Unicode database ID\n",
    "* \\uhhhh                Unicode character with 16-bit hex value\n",
    "* \\Uhhhhhhhh            Unicode character with 32-bit hex valuea  \n",
    "* \\other                Not an escape (keeps both \\ and other)  \n",
    "  "
   ],
   "cell_type": "markdown",
   "metadata": {}
  },
  {
   "cell_type": "code",
   "execution_count": 4,
   "metadata": {},
   "outputs": [
    {
     "output_type": "stream",
     "name": "stdout",
     "text": [
      "a\nb\tc\n"
     ]
    }
   ],
   "source": [
    "# Como por ejemplo:\n",
    "s = 'a\\nb\\tc'\n",
    "print(s)"
   ]
  },
  {
   "source": [
    "# Cada secuencia de escape equivale a un(1) caracter, entonces, si utilizamos el Metodo len() del ejemplo anterior:\n",
    "# (\\n \\t cuentan, cada uno, como un caracter)\n",
    "len(s)"
   ],
   "cell_type": "code",
   "metadata": {},
   "execution_count": 5,
   "outputs": [
    {
     "output_type": "execute_result",
     "data": {
      "text/plain": [
       "5"
      ]
     },
     "metadata": {},
     "execution_count": 5
    }
   ]
  },
  {
   "source": [
    "<a name=\"Raw\"></a>\n",
    "### Raw Strings Suppress Escapes\n",
    "\n",
    "Loa ***Raw Strings*** elimina los escapes, quedando el string \"crudo\".\n",
    "\n",
    "Si queremos almacenar la ruta de un archivo y utilizamos (myfile = 'C:\\new\\text.dat'), el resultado no es el esperado:\n"
   ],
   "cell_type": "markdown",
   "metadata": {}
  },
  {
   "cell_type": "code",
   "execution_count": 8,
   "metadata": {},
   "outputs": [
    {
     "output_type": "stream",
     "name": "stdout",
     "text": [
      "C:\new\text.dat\n"
     ]
    }
   ],
   "source": [
    "myfile = 'C:\\new\\text.dat'\n",
    "print(myfile)"
   ]
  },
  {
   "cell_type": "code",
   "execution_count": 9,
   "metadata": {},
   "outputs": [
    {
     "output_type": "stream",
     "name": "stdout",
     "text": [
      "C:\\new\\text.dat\n"
     ]
    }
   ],
   "source": [
    "# Utilizando los raw\n",
    "\n",
    "myfile = r'C:\\new\\text.dat'\n",
    "print(myfile)"
   ]
  },
  {
   "source": [
    "## Operadores Basicos de los ***Strings***"
   ],
   "cell_type": "markdown",
   "metadata": {}
  }
 ]
}