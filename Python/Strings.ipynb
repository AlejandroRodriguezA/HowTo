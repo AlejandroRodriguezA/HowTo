{
 "metadata": {
  "language_info": {
   "codemirror_mode": {
    "name": "ipython",
    "version": 3
   },
   "file_extension": ".py",
   "mimetype": "text/x-python",
   "name": "python",
   "nbconvert_exporter": "python",
   "pygments_lexer": "ipython3",
   "version": "3.9.1"
  },
  "orig_nbformat": 4,
  "kernelspec": {
   "name": "python3",
   "display_name": "Python 3.9.1 64-bit ('kivy': conda)"
  },
  "interpreter": {
   "hash": "b9226178018bf1cf52b3da38df599aa6ab14eb450aa7e026ac7ee04d338100c2"
  }
 },
 "nbformat": 4,
 "nbformat_minor": 2,
 "cells": [
  {
   "source": [
    "# STRINGS\n",
    "## Indice:\n",
    "\n",
    "1. [Literales:](#Literales_)\n",
    "\n"
   ],
   "cell_type": "markdown",
   "metadata": {}
  },
  {
   "source": [
    "\n",
    "<a name=\"Literales_\"></a>\n",
    "## Definicion y literales:\n",
    "\n",
    "Strings en Python objetos secuenciales e inmutables, es decir, ordenadas de izquierda a derecha y que no pueden ser cambiadas en el lugar.\n",
    "\n",
    "Para declarar los strings, o Strings Literals:\n",
    "\n",
    "- Comillas Simples: 'Un \"ejemplo\" de como utilizar las doble comillas dentro de un strig'\n",
    "- Comillas Dobles: \"Joe's House\"\n",
    "- Comillas Triples: '''... Documentacion ...'''\n",
    "- Secuencias de Escape: \"s\\tp\\na\\0m\"\n",
    "- Raw strings: r\"C:\\new\\test.spm\"\n",
    "- Bytes literals: b'sp\\x01am'\n"
   ],
   "cell_type": "markdown",
   "metadata": {}
  },
  {
   "cell_type": "code",
   "execution_count": null,
   "metadata": {},
   "outputs": [],
   "source": [
    "'Un \"ejemplo\" de como utilizar las doble comillas dentro de un strig'\n"
   ]
  },
  {
   "cell_type": "code",
   "execution_count": null,
   "metadata": {},
   "outputs": [],
   "source": [
    "# Nota: otra forma es asignarlo a una variable, para luego trabajarla.\n",
    "\n",
    "ej = \"Ejemplo '2' de literales\"\n",
    "print(ej)\n"
   ]
  },
  {
   "cell_type": "code",
   "execution_count": null,
   "metadata": {},
   "outputs": [],
   "source": [
    "''' Las triple comillas son utilizadas para documentacion,\n",
    "y puedes utilizar varias lineas sin afectar el programa.\n",
    "\n",
    "Python interpreta todo como un string hasta que consigue las\n",
    "triple comillas de cierre'''"
   ]
  },
  {
   "cell_type": "code",
   "execution_count": null,
   "metadata": {},
   "outputs": [],
   "source": []
  },
  {
   "cell_type": "code",
   "execution_count": null,
   "metadata": {},
   "outputs": [],
   "source": []
  },
  {
   "cell_type": "code",
   "execution_count": null,
   "metadata": {},
   "outputs": [],
   "source": []
  },
  {
   "cell_type": "code",
   "execution_count": null,
   "metadata": {},
   "outputs": [],
   "source": []
  },
  {
   "cell_type": "code",
   "execution_count": null,
   "metadata": {},
   "outputs": [],
   "source": []
  },
  {
   "cell_type": "code",
   "execution_count": null,
   "metadata": {},
   "outputs": [],
   "source": []
  },
  {
   "source": [
    "<a name=\"xxx\"></a>\n",
    "# Aqui muestra la informacion"
   ],
   "cell_type": "markdown",
   "metadata": {}
  },
  {
   "cell_type": "code",
   "execution_count": null,
   "metadata": {},
   "outputs": [],
   "source": []
  },
  {
   "cell_type": "code",
   "execution_count": null,
   "metadata": {},
   "outputs": [],
   "source": []
  },
  {
   "cell_type": "code",
   "execution_count": null,
   "metadata": {},
   "outputs": [],
   "source": []
  },
  {
   "cell_type": "code",
   "execution_count": null,
   "metadata": {},
   "outputs": [],
   "source": []
  },
  {
   "cell_type": "code",
   "execution_count": null,
   "metadata": {},
   "outputs": [],
   "source": []
  },
  {
   "cell_type": "code",
   "execution_count": null,
   "metadata": {},
   "outputs": [],
   "source": []
  }
 ]
}